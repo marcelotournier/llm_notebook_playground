{
  "nbformat": 4,
  "nbformat_minor": 0,
  "metadata": {
    "colab": {
      "provenance": [],
      "authorship_tag": "ABX9TyPEZWJXY6q7e8NlFnK/BU1J",
      "include_colab_link": true
    },
    "kernelspec": {
      "name": "python3",
      "display_name": "Python 3"
    },
    "language_info": {
      "name": "python"
    }
  },
  "cells": [
    {
      "cell_type": "markdown",
      "metadata": {
        "id": "view-in-github",
        "colab_type": "text"
      },
      "source": [
        "<a href=\"https://colab.research.google.com/github/marcelotournier/llm_notebook_playground/blob/main/finetune_llama3.ipynb\" target=\"_parent\"><img src=\"https://colab.research.google.com/assets/colab-badge.svg\" alt=\"Open In Colab\"/></a>"
      ]
    },
    {
      "cell_type": "markdown",
      "source": [
        "# Fazendo fine-tuning do LLaMa 3.1\n",
        "\n",
        "Este notebook serve para o fine-tuning dos novos modelos LLaMa 3.1"
      ],
      "metadata": {
        "id": "IKCsSy6U2HhQ"
      }
    },
    {
      "cell_type": "code",
      "source": [
        "# Work in Progress"
      ],
      "metadata": {
        "id": "aBadx6Uy2RY-"
      },
      "execution_count": 1,
      "outputs": []
    },
    {
      "cell_type": "code",
      "source": [],
      "metadata": {
        "id": "tOOVQpjk2Ups"
      },
      "execution_count": null,
      "outputs": []
    }
  ]
}